{
  "nbformat": 4,
  "nbformat_minor": 0,
  "metadata": {
    "colab": {
      "name": "classification_task1.ipynb",
      "version": "0.3.2",
      "provenance": [],
      "collapsed_sections": []
    },
    "kernelspec": {
      "name": "python3",
      "display_name": "Python 3"
    }
  },
  "cells": [
    {
      "cell_type": "code",
      "metadata": {
        "id": "xMkuXGUYOkvZ",
        "colab_type": "code",
        "colab": {}
      },
      "source": [
        "from keras.applications.resnet50 import ResNet50\n",
        "from keras.preprocessing import image\n",
        "from keras.models import Model\n",
        "from keras.layers import GlobalAveragePooling2D\n",
        "import numpy as np\n",
        "import cv2 \n",
        "import os\n",
        "import glob\n",
        "from keras.models import Sequential, Model, load_model\n",
        "from keras.layers import Dense\n",
        "from keras.layers import Activation\n",
        "from keras.layers import Dropout\n",
        "from keras.layers import Flatten\n",
        "from keras.layers import Conv2D\n",
        "from keras.layers import MaxPooling2D\n",
        "from keras.layers import Input\n",
        "from keras.layers import BatchNormalization\n",
        "from keras.preprocessing.image import ImageDataGenerator\n",
        "from keras import losses, metrics, optimizers\n",
        "from keras.callbacks import EarlyStopping, ModelCheckpoint, TensorBoard\n",
        "from keras import backend as K\n",
        "from keras import regularizers\n",
        "from keras.utils import to_categorical\n",
        "import tensorflow as tf\n",
        "from sklearn.model_selection import train_test_split\n",
        "from sklearn.metrics import confusion_matrix, precision_score\n",
        "from skimage.transform import resize, rescale\n",
        "from skimage.io import imread\n",
        "from matplotlib import pyplot as plt\n",
        "import pickle\n",
        "import pandas as pd\n",
        "from sklearn.utils import class_weight\n",
        "\n",
        "%matplotlib inline"
      ],
      "execution_count": 0,
      "outputs": []
    },
    {
      "cell_type": "code",
      "metadata": {
        "id": "YbqqHDvxOste",
        "colab_type": "code",
        "outputId": "57c727be-94db-48f9-853b-985986565b3b",
        "colab": {
          "base_uri": "https://localhost:8080/",
          "height": 34
        }
      },
      "source": [
        "#loading the pre-processed dataset via mounting google drive locally\n",
        "from google.colab import drive\n",
        "drive.mount('/content/gdrive')"
      ],
      "execution_count": 76,
      "outputs": [
        {
          "output_type": "stream",
          "text": [
            "Drive already mounted at /content/gdrive; to attempt to forcibly remount, call drive.mount(\"/content/gdrive\", force_remount=True).\n"
          ],
          "name": "stdout"
        }
      ]
    },
    {
      "cell_type": "code",
      "metadata": {
        "id": "EuQyH23-XAX6",
        "colab_type": "code",
        "colab": {}
      },
      "source": [
        "#load the dataset into the environment\n",
        "\n",
        "with open('gdrive/My Drive/dataset_isic_2/X_clf', 'rb') as f:\n",
        "    X = pickle.load(f)\n",
        "    \n",
        "with open('gdrive/My Drive/dataset_isic_2/Y_clf', 'rb') as f:\n",
        "    y = pickle.load(f)"
      ],
      "execution_count": 0,
      "outputs": []
    },
    {
      "cell_type": "code",
      "metadata": {
        "id": "dVhexYRNO1e4",
        "colab_type": "code",
        "colab": {}
      },
      "source": [
        "#train val test split the dataset\n",
        "X_train, X_test, y_train, y_test = train_test_split(X, y, test_size = 0.2)\n",
        "X_train, X_val, y_train, y_val = train_test_split(X_train, y_train, test_size = 0.2)"
      ],
      "execution_count": 0,
      "outputs": []
    },
    {
      "cell_type": "code",
      "metadata": {
        "id": "bsX3bB91AHwh",
        "colab_type": "code",
        "colab": {
          "base_uri": "https://localhost:8080/",
          "height": 34
        },
        "outputId": "a2be1f45-c03e-4aab-b31a-2f01fa71e24d"
      },
      "source": [
        "type(X_train)"
      ],
      "execution_count": 92,
      "outputs": [
        {
          "output_type": "execute_result",
          "data": {
            "text/plain": [
              "list"
            ]
          },
          "metadata": {
            "tags": []
          },
          "execution_count": 92
        }
      ]
    },
    {
      "cell_type": "code",
      "metadata": {
        "id": "zvM4t5gNO4nX",
        "colab_type": "code",
        "colab": {
          "base_uri": "https://localhost:8080/",
          "height": 578
        },
        "outputId": "b6ebbf74-d716-48c8-ee40-c3465ac1ccbe"
      },
      "source": [
        "#CNN starts here\n",
        "model = Sequential()\n",
        "CNN_input_size = [64, 64, 3]\n",
        "model.add(Conv2D(32, (3, 3), input_shape = CNN_input_size, activation = 'relu', padding = 'same', name = 'conv1'))\n",
        "model.add(MaxPooling2D((2, 2), strides = (2, 2)))\n",
        "model.add(Conv2D(32, (3, 3), input_shape = CNN_input_size, activation = 'relu', padding = 'same', name = 'conv2'))\n",
        "model.add(MaxPooling2D((2, 2), strides = (2, 2)))\n",
        "model.add(Conv2D(32, (3, 3), input_shape = CNN_input_size, activation = 'relu', padding = 'same', name = 'conv3'))\n",
        "model.add(MaxPooling2D((2, 2), strides = (2, 2)))\n",
        "model.add(Conv2D(32, (3, 3), input_shape = CNN_input_size, activation = 'relu', padding = 'same', name = 'conv4'))\n",
        "model.add(MaxPooling2D((2, 2), strides = (2, 2)))\n",
        "model.add(Flatten())\n",
        "\n",
        "model.add(Dense(128, activation = 'relu', name = 'dense_1'))\n",
        "model.add(Dense(1, name = 'dense_2'))\n",
        "model.add(Dropout(0.5))\n",
        "model.add(Activation('sigmoid'))\n",
        "model.compile(loss = 'binary_crossentropy', optimizer = 'adam', metrics = ['accuracy'])\n",
        "model.summary()"
      ],
      "execution_count": 164,
      "outputs": [
        {
          "output_type": "stream",
          "text": [
            "_________________________________________________________________\n",
            "Layer (type)                 Output Shape              Param #   \n",
            "=================================================================\n",
            "conv1 (Conv2D)               (None, 64, 64, 32)        896       \n",
            "_________________________________________________________________\n",
            "max_pooling2d_44 (MaxPooling (None, 32, 32, 32)        0         \n",
            "_________________________________________________________________\n",
            "conv2 (Conv2D)               (None, 32, 32, 32)        9248      \n",
            "_________________________________________________________________\n",
            "max_pooling2d_45 (MaxPooling (None, 16, 16, 32)        0         \n",
            "_________________________________________________________________\n",
            "conv3 (Conv2D)               (None, 16, 16, 32)        9248      \n",
            "_________________________________________________________________\n",
            "max_pooling2d_46 (MaxPooling (None, 8, 8, 32)          0         \n",
            "_________________________________________________________________\n",
            "conv4 (Conv2D)               (None, 8, 8, 32)          9248      \n",
            "_________________________________________________________________\n",
            "max_pooling2d_47 (MaxPooling (None, 4, 4, 32)          0         \n",
            "_________________________________________________________________\n",
            "flatten_22 (Flatten)         (None, 512)               0         \n",
            "_________________________________________________________________\n",
            "dense_1 (Dense)              (None, 128)               65664     \n",
            "_________________________________________________________________\n",
            "dense_2 (Dense)              (None, 1)                 129       \n",
            "_________________________________________________________________\n",
            "dropout_11 (Dropout)         (None, 1)                 0         \n",
            "_________________________________________________________________\n",
            "activation_1 (Activation)    (None, 1)                 0         \n",
            "=================================================================\n",
            "Total params: 94,433\n",
            "Trainable params: 94,433\n",
            "Non-trainable params: 0\n",
            "_________________________________________________________________\n"
          ],
          "name": "stdout"
        }
      ]
    },
    {
      "cell_type": "code",
      "metadata": {
        "id": "CVOmCUbGB6k4",
        "colab_type": "code",
        "colab": {}
      },
      "source": [
        "#compute class weight as imbalanced dataset\n",
        "class_weights = class_weight.compute_class_weight('balanced', np.unique(y_train), y_train)\n",
        "model_checkpoint = ModelCheckpoint('./basic_conv.hdf5',save_best_only=True, monitor='val_loss', verbose=2)\n",
        "tb = TensorBoard(log_dir='./Graph/basic_conv/')"
      ],
      "execution_count": 0,
      "outputs": []
    },
    {
      "cell_type": "code",
      "metadata": {
        "id": "em9wve3lgkj1",
        "colab_type": "code",
        "colab": {
          "base_uri": "https://localhost:8080/",
          "height": 34
        },
        "outputId": "97d13385-94d4-48c9-d551-05ba1cfecd86"
      },
      "source": [
        "class_weights"
      ],
      "execution_count": 166,
      "outputs": [
        {
          "output_type": "execute_result",
          "data": {
            "text/plain": [
              "array([0.62, 2.64])"
            ]
          },
          "metadata": {
            "tags": []
          },
          "execution_count": 166
        }
      ]
    },
    {
      "cell_type": "code",
      "metadata": {
        "id": "KI8txKf3B7ml",
        "colab_type": "code",
        "colab": {
          "base_uri": "https://localhost:8080/",
          "height": 1394
        },
        "outputId": "6af38fee-9483-4f36-a6b2-52cfa4e00933"
      },
      "source": [
        "#fit the model\n",
        "history = model.fit(np.array(X_train), np.array(y_train), epochs=20, batch_size=32, validation_data = (np.array(X_val), np.array(y_val)), callbacks=[model_checkpoint,tb], class_weight=class_weights)"
      ],
      "execution_count": 167,
      "outputs": [
        {
          "output_type": "stream",
          "text": [
            "Train on 1280 samples, validate on 320 samples\n",
            "Epoch 1/20\n",
            "1280/1280 [==============================] - 8s 6ms/step - loss: 0.6217 - acc: 0.8117 - val_loss: 0.5230 - val_acc: 0.8406\n",
            "\n",
            "Epoch 00001: val_loss improved from inf to 0.52305, saving model to ./basic_conv.hdf5\n",
            "Epoch 2/20\n",
            "1280/1280 [==============================] - 7s 6ms/step - loss: 0.5971 - acc: 0.8109 - val_loss: 0.4779 - val_acc: 0.8406\n",
            "\n",
            "Epoch 00002: val_loss improved from 0.52305 to 0.47790, saving model to ./basic_conv.hdf5\n",
            "Epoch 3/20\n",
            "1280/1280 [==============================] - 7s 6ms/step - loss: 0.5885 - acc: 0.8109 - val_loss: 0.4985 - val_acc: 0.8406\n",
            "\n",
            "Epoch 00003: val_loss did not improve from 0.47790\n",
            "Epoch 4/20\n",
            "1280/1280 [==============================] - 7s 6ms/step - loss: 0.5789 - acc: 0.8109 - val_loss: 0.4735 - val_acc: 0.8406\n",
            "\n",
            "Epoch 00004: val_loss improved from 0.47790 to 0.47345, saving model to ./basic_conv.hdf5\n",
            "Epoch 5/20\n",
            "1280/1280 [==============================] - 7s 6ms/step - loss: 0.5778 - acc: 0.8109 - val_loss: 0.4537 - val_acc: 0.8406\n",
            "\n",
            "Epoch 00005: val_loss improved from 0.47345 to 0.45373, saving model to ./basic_conv.hdf5\n",
            "Epoch 6/20\n",
            "1280/1280 [==============================] - 7s 6ms/step - loss: 0.5676 - acc: 0.8109 - val_loss: 0.4983 - val_acc: 0.8406\n",
            "\n",
            "Epoch 00006: val_loss did not improve from 0.45373\n",
            "Epoch 7/20\n",
            "1280/1280 [==============================] - 7s 6ms/step - loss: 0.5631 - acc: 0.8109 - val_loss: 0.4518 - val_acc: 0.8406\n",
            "\n",
            "Epoch 00007: val_loss improved from 0.45373 to 0.45184, saving model to ./basic_conv.hdf5\n",
            "Epoch 8/20\n",
            "1280/1280 [==============================] - 8s 6ms/step - loss: 0.5470 - acc: 0.8109 - val_loss: 0.4425 - val_acc: 0.8406\n",
            "\n",
            "Epoch 00008: val_loss improved from 0.45184 to 0.44252, saving model to ./basic_conv.hdf5\n",
            "Epoch 9/20\n",
            "1280/1280 [==============================] - 7s 6ms/step - loss: 0.5614 - acc: 0.8148 - val_loss: 0.4685 - val_acc: 0.8313\n",
            "\n",
            "Epoch 00009: val_loss did not improve from 0.44252\n",
            "Epoch 10/20\n",
            "1280/1280 [==============================] - 7s 6ms/step - loss: 0.5576 - acc: 0.8156 - val_loss: 0.4649 - val_acc: 0.8406\n",
            "\n",
            "Epoch 00010: val_loss did not improve from 0.44252\n",
            "Epoch 11/20\n",
            "1280/1280 [==============================] - 7s 6ms/step - loss: 0.5586 - acc: 0.8156 - val_loss: 0.4468 - val_acc: 0.8406\n",
            "\n",
            "Epoch 00011: val_loss did not improve from 0.44252\n",
            "Epoch 12/20\n",
            "1280/1280 [==============================] - 8s 6ms/step - loss: 0.5410 - acc: 0.8133 - val_loss: 0.4414 - val_acc: 0.8281\n",
            "\n",
            "Epoch 00012: val_loss improved from 0.44252 to 0.44142, saving model to ./basic_conv.hdf5\n",
            "Epoch 13/20\n",
            "1280/1280 [==============================] - 8s 6ms/step - loss: 0.5420 - acc: 0.8203 - val_loss: 0.4986 - val_acc: 0.8031\n",
            "\n",
            "Epoch 00013: val_loss did not improve from 0.44142\n",
            "Epoch 14/20\n",
            "1280/1280 [==============================] - 7s 6ms/step - loss: 0.5497 - acc: 0.8258 - val_loss: 0.4791 - val_acc: 0.8031\n",
            "\n",
            "Epoch 00014: val_loss did not improve from 0.44142\n",
            "Epoch 15/20\n",
            "1280/1280 [==============================] - 7s 6ms/step - loss: 0.5310 - acc: 0.8320 - val_loss: 0.4720 - val_acc: 0.8156\n",
            "\n",
            "Epoch 00015: val_loss did not improve from 0.44142\n",
            "Epoch 16/20\n",
            "1280/1280 [==============================] - 7s 6ms/step - loss: 0.5278 - acc: 0.8258 - val_loss: 0.5049 - val_acc: 0.8187\n",
            "\n",
            "Epoch 00016: val_loss did not improve from 0.44142\n",
            "Epoch 17/20\n",
            "1280/1280 [==============================] - 7s 6ms/step - loss: 0.5314 - acc: 0.8305 - val_loss: 0.4526 - val_acc: 0.8281\n",
            "\n",
            "Epoch 00017: val_loss did not improve from 0.44142\n",
            "Epoch 18/20\n",
            "1280/1280 [==============================] - 7s 6ms/step - loss: 0.4989 - acc: 0.8398 - val_loss: 0.4592 - val_acc: 0.8219\n",
            "\n",
            "Epoch 00018: val_loss did not improve from 0.44142\n",
            "Epoch 19/20\n",
            "1280/1280 [==============================] - 7s 6ms/step - loss: 0.5166 - acc: 0.8461 - val_loss: 0.4602 - val_acc: 0.8156\n",
            "\n",
            "Epoch 00019: val_loss did not improve from 0.44142\n",
            "Epoch 20/20\n",
            "1280/1280 [==============================] - 7s 6ms/step - loss: 0.4925 - acc: 0.8492 - val_loss: 0.4421 - val_acc: 0.8063\n",
            "\n",
            "Epoch 00020: val_loss did not improve from 0.44142\n"
          ],
          "name": "stdout"
        }
      ]
    },
    {
      "cell_type": "code",
      "metadata": {
        "id": "OiWK4WZkH6pP",
        "colab_type": "code",
        "outputId": "7564729d-e652-46c3-a12b-e95a6c6de9f6",
        "colab": {
          "base_uri": "https://localhost:8080/",
          "height": 34
        }
      },
      "source": [
        "#predict on test set\n",
        "model = load_model('./basic_conv.hdf5')\n",
        "y_pred = model.predict(np.array(X_test),verbose=1)"
      ],
      "execution_count": 168,
      "outputs": [
        {
          "output_type": "stream",
          "text": [
            "400/400 [==============================] - 2s 4ms/step\n"
          ],
          "name": "stdout"
        }
      ]
    },
    {
      "cell_type": "code",
      "metadata": {
        "id": "-ph-BdN-w4hx",
        "colab_type": "code",
        "colab": {
          "base_uri": "https://localhost:8080/",
          "height": 6817
        },
        "outputId": "54afa034-cb2b-4889-fd3a-462b537d1696"
      },
      "source": [
        "y_pred"
      ],
      "execution_count": 169,
      "outputs": [
        {
          "output_type": "execute_result",
          "data": {
            "text/plain": [
              "array([[0.47],\n",
              "       [0.35],\n",
              "       [0.18],\n",
              "       [0.32],\n",
              "       [0.32],\n",
              "       [0.19],\n",
              "       [0.3 ],\n",
              "       [0.32],\n",
              "       [0.23],\n",
              "       [0.23],\n",
              "       [0.21],\n",
              "       [0.16],\n",
              "       [0.24],\n",
              "       [0.4 ],\n",
              "       [0.34],\n",
              "       [0.22],\n",
              "       [0.38],\n",
              "       [0.36],\n",
              "       [0.14],\n",
              "       [0.11],\n",
              "       [0.12],\n",
              "       [0.22],\n",
              "       [0.1 ],\n",
              "       [0.12],\n",
              "       [0.37],\n",
              "       [0.25],\n",
              "       [0.32],\n",
              "       [0.16],\n",
              "       [0.19],\n",
              "       [0.41],\n",
              "       [0.34],\n",
              "       [0.17],\n",
              "       [0.16],\n",
              "       [0.41],\n",
              "       [0.26],\n",
              "       [0.31],\n",
              "       [0.05],\n",
              "       [0.38],\n",
              "       [0.21],\n",
              "       [0.44],\n",
              "       [0.28],\n",
              "       [0.2 ],\n",
              "       [0.11],\n",
              "       [0.19],\n",
              "       [0.57],\n",
              "       [0.19],\n",
              "       [0.23],\n",
              "       [0.37],\n",
              "       [0.57],\n",
              "       [0.12],\n",
              "       [0.32],\n",
              "       [0.24],\n",
              "       [0.37],\n",
              "       [0.2 ],\n",
              "       [0.18],\n",
              "       [0.09],\n",
              "       [0.35],\n",
              "       [0.46],\n",
              "       [0.11],\n",
              "       [0.06],\n",
              "       [0.46],\n",
              "       [0.52],\n",
              "       [0.44],\n",
              "       [0.27],\n",
              "       [0.2 ],\n",
              "       [0.2 ],\n",
              "       [0.35],\n",
              "       [0.18],\n",
              "       [0.22],\n",
              "       [0.43],\n",
              "       [0.29],\n",
              "       [0.24],\n",
              "       [0.15],\n",
              "       [0.29],\n",
              "       [0.34],\n",
              "       [0.24],\n",
              "       [0.47],\n",
              "       [0.2 ],\n",
              "       [0.11],\n",
              "       [0.25],\n",
              "       [0.31],\n",
              "       [0.25],\n",
              "       [0.34],\n",
              "       [0.2 ],\n",
              "       [0.52],\n",
              "       [0.21],\n",
              "       [0.13],\n",
              "       [0.15],\n",
              "       [0.37],\n",
              "       [0.28],\n",
              "       [0.39],\n",
              "       [0.2 ],\n",
              "       [0.4 ],\n",
              "       [0.26],\n",
              "       [0.34],\n",
              "       [0.25],\n",
              "       [0.12],\n",
              "       [0.29],\n",
              "       [0.19],\n",
              "       [0.04],\n",
              "       [0.2 ],\n",
              "       [0.33],\n",
              "       [0.17],\n",
              "       [0.48],\n",
              "       [0.18],\n",
              "       [0.39],\n",
              "       [0.38],\n",
              "       [0.28],\n",
              "       [0.3 ],\n",
              "       [0.21],\n",
              "       [0.11],\n",
              "       [0.24],\n",
              "       [0.2 ],\n",
              "       [0.08],\n",
              "       [0.16],\n",
              "       [0.14],\n",
              "       [0.09],\n",
              "       [0.28],\n",
              "       [0.17],\n",
              "       [0.39],\n",
              "       [0.4 ],\n",
              "       [0.23],\n",
              "       [0.18],\n",
              "       [0.36],\n",
              "       [0.44],\n",
              "       [0.2 ],\n",
              "       [0.18],\n",
              "       [0.19],\n",
              "       [0.14],\n",
              "       [0.17],\n",
              "       [0.36],\n",
              "       [0.24],\n",
              "       [0.11],\n",
              "       [0.18],\n",
              "       [0.2 ],\n",
              "       [0.34],\n",
              "       [0.22],\n",
              "       [0.26],\n",
              "       [0.2 ],\n",
              "       [0.22],\n",
              "       [0.14],\n",
              "       [0.4 ],\n",
              "       [0.26],\n",
              "       [0.19],\n",
              "       [0.23],\n",
              "       [0.23],\n",
              "       [0.2 ],\n",
              "       [0.17],\n",
              "       [0.23],\n",
              "       [0.37],\n",
              "       [0.15],\n",
              "       [0.09],\n",
              "       [0.22],\n",
              "       [0.19],\n",
              "       [0.15],\n",
              "       [0.12],\n",
              "       [0.45],\n",
              "       [0.5 ],\n",
              "       [0.22],\n",
              "       [0.49],\n",
              "       [0.35],\n",
              "       [0.24],\n",
              "       [0.05],\n",
              "       [0.17],\n",
              "       [0.33],\n",
              "       [0.49],\n",
              "       [0.34],\n",
              "       [0.47],\n",
              "       [0.25],\n",
              "       [0.16],\n",
              "       [0.16],\n",
              "       [0.23],\n",
              "       [0.13],\n",
              "       [0.07],\n",
              "       [0.24],\n",
              "       [0.12],\n",
              "       [0.05],\n",
              "       [0.14],\n",
              "       [0.07],\n",
              "       [0.24],\n",
              "       [0.07],\n",
              "       [0.27],\n",
              "       [0.31],\n",
              "       [0.45],\n",
              "       [0.21],\n",
              "       [0.18],\n",
              "       [0.15],\n",
              "       [0.25],\n",
              "       [0.21],\n",
              "       [0.2 ],\n",
              "       [0.16],\n",
              "       [0.24],\n",
              "       [0.21],\n",
              "       [0.38],\n",
              "       [0.35],\n",
              "       [0.35],\n",
              "       [0.44],\n",
              "       [0.15],\n",
              "       [0.53],\n",
              "       [0.28],\n",
              "       [0.48],\n",
              "       [0.29],\n",
              "       [0.14],\n",
              "       [0.34],\n",
              "       [0.19],\n",
              "       [0.17],\n",
              "       [0.37],\n",
              "       [0.41],\n",
              "       [0.16],\n",
              "       [0.14],\n",
              "       [0.16],\n",
              "       [0.27],\n",
              "       [0.39],\n",
              "       [0.29],\n",
              "       [0.35],\n",
              "       [0.24],\n",
              "       [0.22],\n",
              "       [0.32],\n",
              "       [0.45],\n",
              "       [0.51],\n",
              "       [0.16],\n",
              "       [0.2 ],\n",
              "       [0.4 ],\n",
              "       [0.32],\n",
              "       [0.24],\n",
              "       [0.12],\n",
              "       [0.19],\n",
              "       [0.47],\n",
              "       [0.22],\n",
              "       [0.46],\n",
              "       [0.45],\n",
              "       [0.21],\n",
              "       [0.08],\n",
              "       [0.3 ],\n",
              "       [0.35],\n",
              "       [0.31],\n",
              "       [0.17],\n",
              "       [0.15],\n",
              "       [0.2 ],\n",
              "       [0.4 ],\n",
              "       [0.14],\n",
              "       [0.1 ],\n",
              "       [0.37],\n",
              "       [0.27],\n",
              "       [0.39],\n",
              "       [0.51],\n",
              "       [0.39],\n",
              "       [0.29],\n",
              "       [0.27],\n",
              "       [0.25],\n",
              "       [0.22],\n",
              "       [0.32],\n",
              "       [0.52],\n",
              "       [0.22],\n",
              "       [0.24],\n",
              "       [0.24],\n",
              "       [0.2 ],\n",
              "       [0.56],\n",
              "       [0.42],\n",
              "       [0.1 ],\n",
              "       [0.53],\n",
              "       [0.21],\n",
              "       [0.31],\n",
              "       [0.33],\n",
              "       [0.16],\n",
              "       [0.36],\n",
              "       [0.22],\n",
              "       [0.21],\n",
              "       [0.37],\n",
              "       [0.11],\n",
              "       [0.31],\n",
              "       [0.22],\n",
              "       [0.11],\n",
              "       [0.29],\n",
              "       [0.26],\n",
              "       [0.15],\n",
              "       [0.15],\n",
              "       [0.3 ],\n",
              "       [0.22],\n",
              "       [0.21],\n",
              "       [0.35],\n",
              "       [0.36],\n",
              "       [0.21],\n",
              "       [0.11],\n",
              "       [0.27],\n",
              "       [0.13],\n",
              "       [0.44],\n",
              "       [0.44],\n",
              "       [0.12],\n",
              "       [0.3 ],\n",
              "       [0.41],\n",
              "       [0.31],\n",
              "       [0.26],\n",
              "       [0.34],\n",
              "       [0.06],\n",
              "       [0.33],\n",
              "       [0.23],\n",
              "       [0.23],\n",
              "       [0.23],\n",
              "       [0.27],\n",
              "       [0.21],\n",
              "       [0.45],\n",
              "       [0.1 ],\n",
              "       [0.5 ],\n",
              "       [0.12],\n",
              "       [0.35],\n",
              "       [0.18],\n",
              "       [0.29],\n",
              "       [0.14],\n",
              "       [0.33],\n",
              "       [0.6 ],\n",
              "       [0.16],\n",
              "       [0.37],\n",
              "       [0.18],\n",
              "       [0.39],\n",
              "       [0.3 ],\n",
              "       [0.23],\n",
              "       [0.29],\n",
              "       [0.07],\n",
              "       [0.12],\n",
              "       [0.22],\n",
              "       [0.23],\n",
              "       [0.27],\n",
              "       [0.32],\n",
              "       [0.21],\n",
              "       [0.32],\n",
              "       [0.23],\n",
              "       [0.31],\n",
              "       [0.13],\n",
              "       [0.38],\n",
              "       [0.28],\n",
              "       [0.2 ],\n",
              "       [0.1 ],\n",
              "       [0.5 ],\n",
              "       [0.08],\n",
              "       [0.4 ],\n",
              "       [0.27],\n",
              "       [0.24],\n",
              "       [0.24],\n",
              "       [0.16],\n",
              "       [0.21],\n",
              "       [0.31],\n",
              "       [0.36],\n",
              "       [0.24],\n",
              "       [0.34],\n",
              "       [0.15],\n",
              "       [0.4 ],\n",
              "       [0.38],\n",
              "       [0.25],\n",
              "       [0.39],\n",
              "       [0.21],\n",
              "       [0.23],\n",
              "       [0.32],\n",
              "       [0.25],\n",
              "       [0.22],\n",
              "       [0.31],\n",
              "       [0.25],\n",
              "       [0.12],\n",
              "       [0.4 ],\n",
              "       [0.13],\n",
              "       [0.18],\n",
              "       [0.44],\n",
              "       [0.41],\n",
              "       [0.39],\n",
              "       [0.16],\n",
              "       [0.48],\n",
              "       [0.16],\n",
              "       [0.56],\n",
              "       [0.45],\n",
              "       [0.37],\n",
              "       [0.26],\n",
              "       [0.47],\n",
              "       [0.4 ],\n",
              "       [0.3 ],\n",
              "       [0.54],\n",
              "       [0.06],\n",
              "       [0.18],\n",
              "       [0.17],\n",
              "       [0.15],\n",
              "       [0.07],\n",
              "       [0.1 ],\n",
              "       [0.29],\n",
              "       [0.26],\n",
              "       [0.18],\n",
              "       [0.49],\n",
              "       [0.14],\n",
              "       [0.56],\n",
              "       [0.37],\n",
              "       [0.14],\n",
              "       [0.17],\n",
              "       [0.18],\n",
              "       [0.39],\n",
              "       [0.17],\n",
              "       [0.22],\n",
              "       [0.15],\n",
              "       [0.19],\n",
              "       [0.24],\n",
              "       [0.21],\n",
              "       [0.2 ],\n",
              "       [0.16]], dtype=float32)"
            ]
          },
          "metadata": {
            "tags": []
          },
          "execution_count": 169
        }
      ]
    },
    {
      "cell_type": "code",
      "metadata": {
        "id": "_7n4L5ytIl1q",
        "colab_type": "code",
        "outputId": "d0fc73b4-6047-45a0-8f77-4407f5313419",
        "colab": {
          "base_uri": "https://localhost:8080/",
          "height": 34
        }
      },
      "source": [
        "y_pred_class = y_pred > 0.5\n",
        "print (\"Precision Score %f\",precision_score(y_test, y_pred_class, average='binary'))"
      ],
      "execution_count": 170,
      "outputs": [
        {
          "output_type": "stream",
          "text": [
            "Precision Score %f 0.3333333333333333\n"
          ],
          "name": "stdout"
        }
      ]
    },
    {
      "cell_type": "code",
      "metadata": {
        "id": "KnB-hwseFURB",
        "colab_type": "code",
        "colab": {
          "base_uri": "https://localhost:8080/",
          "height": 34
        },
        "outputId": "f676a718-d45d-452b-c6d9-69ed5f02f145"
      },
      "source": [
        "from sklearn.metrics import f1_score\n",
        "f1 = f1_score(y_test, y_pred_class, average = None)\n",
        "f1"
      ],
      "execution_count": 171,
      "outputs": [
        {
          "output_type": "execute_result",
          "data": {
            "text/plain": [
              "array([0.88, 0.1 ])"
            ]
          },
          "metadata": {
            "tags": []
          },
          "execution_count": 171
        }
      ]
    },
    {
      "cell_type": "code",
      "metadata": {
        "id": "-8x1udMXxcCv",
        "colab_type": "code",
        "colab": {}
      },
      "source": [
        "import itertools\n",
        "def plot_confusion_matrix(cm, classes,\n",
        "                          normalize=False,\n",
        "                          title='Confusion matrix',\n",
        "                          cmap=plt.cm.Blues):\n",
        "    \"\"\"\n",
        "    This function prints and plots the confusion matrix.\n",
        "    Normalization can be applied by setting `normalize=True`.\n",
        "    \"\"\"\n",
        "    if normalize:\n",
        "        cm = cm.astype('float') / cm.sum(axis=1)[:, np.newaxis]\n",
        "        print(\"Normalized confusion matrix\")\n",
        "    else:\n",
        "        print('Confusion matrix, without normalization')\n",
        "\n",
        "    print(cm)\n",
        "\n",
        "    plt.imshow(cm, interpolation='nearest', cmap=cmap)\n",
        "    plt.title(title)\n",
        "    plt.colorbar()\n",
        "    tick_marks = np.arange(len(classes))\n",
        "    plt.xticks(tick_marks, classes, rotation=45)\n",
        "    plt.yticks(tick_marks, classes)\n",
        "\n",
        "    fmt = '.2f' if normalize else 'd'\n",
        "    thresh = cm.max() / 2.\n",
        "    for i, j in itertools.product(range(cm.shape[0]), range(cm.shape[1])):\n",
        "        plt.text(j, i, format(cm[i, j], fmt),\n",
        "                 horizontalalignment=\"center\",\n",
        "                 color=\"white\" if cm[i, j] > thresh else \"black\")\n",
        "\n",
        "    plt.tight_layout()\n",
        "    plt.ylabel('True label')\n",
        "    plt.xlabel('Predicted label')"
      ],
      "execution_count": 0,
      "outputs": []
    },
    {
      "cell_type": "code",
      "metadata": {
        "id": "iOxx75Vhxe7g",
        "colab_type": "code",
        "colab": {
          "base_uri": "https://localhost:8080/",
          "height": 707
        },
        "outputId": "062130e6-2e23-4191-ac55-8d0aa6ec7a3b"
      },
      "source": [
        "class_names = [\"Others\",\"Melanoma\"]\n",
        "# Compute confusion matrix\n",
        "cnf_matrix = confusion_matrix(y_test, y_pred_class)\n",
        "np.set_printoptions(precision=2)\n",
        "\n",
        "# Plot non-normalized confusion matrix\n",
        "plt.figure()\n",
        "plot_confusion_matrix(cnf_matrix, classes=class_names,\n",
        "                      title='Confusion matrix, without normalization')\n",
        "\n",
        "# Plot normalized confusion matrix\n",
        "plt.figure()\n",
        "plot_confusion_matrix(cnf_matrix, classes=class_names, normalize=True,\n",
        "                      title='Normalized confusion matrix')\n",
        "\n",
        "plt.show()"
      ],
      "execution_count": 173,
      "outputs": [
        {
          "output_type": "stream",
          "text": [
            "Confusion matrix, without normalization\n",
            "[[309  10]\n",
            " [ 76   5]]\n",
            "Normalized confusion matrix\n",
            "[[0.97 0.03]\n",
            " [0.94 0.06]]\n"
          ],
          "name": "stdout"
        },
        {
          "output_type": "display_data",
          "data": {
            "image/png": "[encoded data removed]",
            "text/plain": [
              "<Figure size 432x288 with 2 Axes>"
            ]
          },
          "metadata": {
            "tags": []
          }
        },
        {
          "output_type": "display_data",
          "data": {
            "image/png": "[encoded data removed]",
            "text/plain": [
              "<Figure size 432x288 with 2 Axes>"
            ]
          },
          "metadata": {
            "tags": []
          }
        }
      ]
    }
  ]
}